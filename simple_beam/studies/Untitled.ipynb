{
 "cells": [
  {
   "cell_type": "code",
   "execution_count": null,
   "metadata": {},
   "outputs": [],
   "source": [
    "from cosapp.drivers import NonLinearSolver\n",
    "from cosapp.tools import display_doc, view_model\n",
    "\n",
    "from simple_beam import ports, systems"
   ]
  }
 ],
 "metadata": {
  "kernelspec": {
   "display_name": "simple_beam",
   "language": "python",
   "name": "conda-env-simple_beam-py"
  },
  "language_info": {
   "codemirror_mode": {
    "name": "ipython",
    "version": 3
   },
   "file_extension": ".py",
   "mimetype": "text/x-python",
   "name": "python",
   "nbconvert_exporter": "python",
   "pygments_lexer": "ipython3",
   "version": "3.6.5"
  }
 },
 "nbformat": 4,
 "nbformat_minor": 2
}
